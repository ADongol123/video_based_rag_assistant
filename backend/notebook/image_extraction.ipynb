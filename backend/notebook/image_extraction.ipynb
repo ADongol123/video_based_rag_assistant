{
 "cells": [
  {
   "cell_type": "code",
   "execution_count": 4,
   "id": "f2e9af22",
   "metadata": {},
   "outputs": [
    {
     "data": {
      "text/plain": [
       "device(type='cuda')"
      ]
     },
     "execution_count": 4,
     "metadata": {},
     "output_type": "execute_result"
    }
   ],
   "source": [
    "import torch\n",
    "\n",
    "device = torch.device(\"cuda\" if torch.cuda.is_available() else \"cpu\")\n",
    "device"
   ]
  },
  {
   "cell_type": "code",
   "execution_count": 20,
   "id": "b0929a25",
   "metadata": {},
   "outputs": [],
   "source": [
    "import cv2\n",
    "import os \n",
    "from pytube import YouTube\n",
    "from skimage.metrics import structural_similarity as ssim"
   ]
  },
  {
   "cell_type": "code",
   "execution_count": 13,
   "id": "34feac0f",
   "metadata": {},
   "outputs": [],
   "source": [
    "import yt_dlp\n",
    "import os\n",
    "\n",
    "def download_youtube_video_ytdlp(url: str, output_path: str = \"videos\") -> str:\n",
    "    os.makedirs(output_path, exist_ok=True)\n",
    "    \n",
    "    ydl_opts = {\n",
    "        'outtmpl': f'{output_path}/%(title)s.%(ext)s',\n",
    "        'format': 'mp4',\n",
    "        'merge_output_format': 'mp4'\n",
    "    }\n",
    "\n",
    "    with yt_dlp.YoutubeDL(ydl_opts) as ydl:\n",
    "        info = ydl.extract_info(url, download=True)\n",
    "        filename = ydl.prepare_filename(info)\n",
    "        return filename\n"
   ]
  },
  {
   "cell_type": "code",
   "execution_count": 21,
   "id": "a3c6cb32",
   "metadata": {},
   "outputs": [],
   "source": [
    "def extract_unique_frames(video_path, output_dir=\"frames\", interval=10):\n",
    "    os.makedirs(output_dir, exist_ok=True)\n",
    "    cap = cv2.VideoCapture(video_path)\n",
    "    \n",
    "    fps = int(cap.get(cv2.CAP_PROP_FPS))\n",
    "    frame_interval = interval * fps  # convert seconds to frame count\n",
    "    count = 0\n",
    "    saved = 0\n",
    "    prev_frame = None\n",
    "\n",
    "    while cap.isOpened():\n",
    "        ret, frame = cap.read()\n",
    "        if not ret:\n",
    "            break\n",
    "\n",
    "        if count % frame_interval == 0:\n",
    "            gray = cv2.cvtColor(frame, cv2.COLOR_BGR2GRAY)\n",
    "\n",
    "            # Compare to previous frame using SSIM\n",
    "            if prev_frame is not None:\n",
    "                score, _ = ssim(prev_frame, gray, full=True)\n",
    "                if score > 0.95:\n",
    "                    count += 1\n",
    "                    continue  # skip similar frame\n",
    "\n",
    "            # Save the frame\n",
    "            filename = os.path.join(output_dir, f\"frame_{count}.jpg\")\n",
    "            cv2.imwrite(filename, frame)\n",
    "            prev_frame = gray\n",
    "            saved += 1\n",
    "\n",
    "        count += 1\n",
    "\n",
    "    cap.release()\n",
    "    print(f\"✅ Extracted and saved {saved} unique frames to '{output_dir}'.\")\n",
    "\n"
   ]
  },
  {
   "cell_type": "code",
   "execution_count": 22,
   "id": "a7528fa7",
   "metadata": {},
   "outputs": [
    {
     "name": "stdout",
     "output_type": "stream",
     "text": [
      "[youtube] Extracting URL: https://www.youtube.com/watch?v=4r4p61Mk84w\n",
      "[youtube] 4r4p61Mk84w: Downloading webpage\n",
      "[youtube] 4r4p61Mk84w: Downloading tv client config\n",
      "[youtube] 4r4p61Mk84w: Downloading tv player API JSON\n",
      "[youtube] 4r4p61Mk84w: Downloading ios player API JSON\n",
      "[youtube] 4r4p61Mk84w: Downloading m3u8 information\n",
      "[info] 4r4p61Mk84w: Downloading 1 format(s): 18\n",
      "[download] videos\\Intro to Industrial Sewing Machines.mp4 has already been downloaded\n",
      "[download] 100% of   32.40MiB\n",
      "Extracted 555 frames from the video at videos\\Intro to Industrial Sewing Machines.mp4.\n"
     ]
    }
   ],
   "source": [
    "youtube_url = \"https://www.youtube.com/watch?v=4r4p61Mk84w\"\n",
    "video_path = download_youtube_video_ytdlp(youtube_url)\n",
    "\n",
    "extract = extract_frames(video_path, output_dir=\"frames\", interval=2)\n",
    "print(f\"Extracted {extract} frames from the video at {video_path}.\")\n"
   ]
  },
  {
   "cell_type": "code",
   "execution_count": null,
   "id": "86a3c4cc",
   "metadata": {},
   "outputs": [],
   "source": []
  }
 ],
 "metadata": {
  "kernelspec": {
   "display_name": "videorag",
   "language": "python",
   "name": "venv"
  },
  "language_info": {
   "codemirror_mode": {
    "name": "ipython",
    "version": 3
   },
   "file_extension": ".py",
   "mimetype": "text/x-python",
   "name": "python",
   "nbconvert_exporter": "python",
   "pygments_lexer": "ipython3",
   "version": "3.12.0"
  }
 },
 "nbformat": 4,
 "nbformat_minor": 5
}
